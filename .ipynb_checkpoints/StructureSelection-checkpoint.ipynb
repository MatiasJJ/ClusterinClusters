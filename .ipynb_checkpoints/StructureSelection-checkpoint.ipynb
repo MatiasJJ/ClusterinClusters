{
 "cells": [
  {
   "cell_type": "markdown",
   "metadata": {},
   "source": [
    "# Structure selection by Clusterin'Clusters"
   ]
  },
  {
   "cell_type": "markdown",
   "metadata": {},
   "source": [
    "Main program for clustering-based structure selection for JKCS\n",
    "\n",
    "> **This script should be run inside the same folder where JKCS is run \n",
    "\n",
    "> Before running make sure that input4Clustering.csv -file is filled as you prefer.\n"
   ]
  },
  {
   "cell_type": "code",
   "execution_count": 1,
   "metadata": {},
   "outputs": [],
   "source": [
    "%matplotlib inline"
   ]
  },
  {
   "cell_type": "code",
   "execution_count": 2,
   "metadata": {},
   "outputs": [],
   "source": [
    "# Imports\n",
    "import os                   # for finding files\n",
    "import pandas as pd\n",
    "import distutils.util       # for parsing string to boolean\n",
    "from timeit import default_timer as timer # for timing\n",
    "\n",
    "# Modules\n",
    "import modules.own_colormap as cmap\n",
    "import modules.dataio as dataio\n",
    "import modules.descriptors as dd\n",
    "import modules.selection as sel\n",
    "import modules.visualize as viz\n",
    "\n",
    "# Extras for Jupyter version\n",
    "import ase.io\n",
    "import ase.visualize                      # for viewing xyz\n",
    "from IPython.core.display import display, HTML"
   ]
  },
  {
   "cell_type": "code",
   "execution_count": 3,
   "metadata": {},
   "outputs": [],
   "source": [
    "pd.set_option('display.max_colwidth', -1)   # To print full strings in DataFrames"
   ]
  },
  {
   "cell_type": "code",
   "execution_count": 4,
   "metadata": {},
   "outputs": [
    {
     "name": "stdout",
     "output_type": "stream",
     "text": [
      "🥳 Clusterin'Clusters start! 🥳\n"
     ]
    }
   ],
   "source": [
    "# Init timer\n",
    "start = timer()\n",
    "print(\"🥳 Clusterin'Clusters start! 🥳\")"
   ]
  },
  {
   "cell_type": "code",
   "execution_count": 5,
   "metadata": {},
   "outputs": [],
   "source": [
    "# Parse arguments\n",
    "args = pd.read_csv(\"input4Clustering.csv\",index_col='parameter',sep='|')\n",
    "\n",
    "# save args into nice variables\n",
    "n_jobs = int(args.loc['n'][0])\n",
    "n_clusters_init = int(args.loc['k'][0])\n",
    "n_clusters_out = int(args.loc['c'][0])\n",
    "M = int(args.loc['m'][0])\n",
    "sampl = distutils.util.strtobool(args.loc['r'][0])\n",
    "n_structures_out = int(args.loc['s'][0])\n",
    "level = args.loc['l'][0]\n",
    "normEd = distutils.util.strtobool(args.loc['e'][0])\n",
    "verbose = distutils.util.strtobool(args.loc['v'][0])\n",
    "descname = args.loc['d'][0]\n",
    "plotD = distutils.util.strtobool(args.loc['pd'][0])\n",
    "plotC = distutils.util.strtobool(args.loc['pc'][0])"
   ]
  },
  {
   "cell_type": "code",
   "execution_count": 6,
   "metadata": {},
   "outputs": [
    {
     "data": {
      "text/html": [
       "<div>\n",
       "<style scoped>\n",
       "    .dataframe tbody tr th:only-of-type {\n",
       "        vertical-align: middle;\n",
       "    }\n",
       "\n",
       "    .dataframe tbody tr th {\n",
       "        vertical-align: top;\n",
       "    }\n",
       "\n",
       "    .dataframe thead th {\n",
       "        text-align: right;\n",
       "    }\n",
       "</style>\n",
       "<table border=\"1\" class=\"dataframe\">\n",
       "  <thead>\n",
       "    <tr style=\"text-align: right;\">\n",
       "      <th></th>\n",
       "      <th>value</th>\n",
       "      <th>name</th>\n",
       "      <th>description</th>\n",
       "    </tr>\n",
       "    <tr>\n",
       "      <th>parameter</th>\n",
       "      <th></th>\n",
       "      <th></th>\n",
       "      <th></th>\n",
       "    </tr>\n",
       "  </thead>\n",
       "  <tbody>\n",
       "    <tr>\n",
       "      <th>n</th>\n",
       "      <td>1</td>\n",
       "      <td>n_jobs</td>\n",
       "      <td>Provide the number of parallel jobs</td>\n",
       "    </tr>\n",
       "    <tr>\n",
       "      <th>k</th>\n",
       "      <td>15</td>\n",
       "      <td>n_clusters_init</td>\n",
       "      <td>Provide the number of initial clusters for k-means</td>\n",
       "    </tr>\n",
       "    <tr>\n",
       "      <th>c</th>\n",
       "      <td>3</td>\n",
       "      <td>n_clusters_out</td>\n",
       "      <td>Provide the number of clusters selected from k-means</td>\n",
       "    </tr>\n",
       "    <tr>\n",
       "      <th>m</th>\n",
       "      <td>4</td>\n",
       "      <td>n_molecules</td>\n",
       "      <td>Number of molecules in the given system</td>\n",
       "    </tr>\n",
       "    <tr>\n",
       "      <th>r</th>\n",
       "      <td>True</td>\n",
       "      <td>sampling</td>\n",
       "      <td>Whether to select a random sample from the best n_clusters_out</td>\n",
       "    </tr>\n",
       "    <tr>\n",
       "      <th>s</th>\n",
       "      <td>20</td>\n",
       "      <td>n_structures_out</td>\n",
       "      <td>Provide the number of structures = local minima outputted</td>\n",
       "    </tr>\n",
       "    <tr>\n",
       "      <th>l</th>\n",
       "      <td>XTB</td>\n",
       "      <td>level</td>\n",
       "      <td>[XTB]/[DFT] Whether to perform selection on XTB or DFT structures</td>\n",
       "    </tr>\n",
       "    <tr>\n",
       "      <th>e</th>\n",
       "      <td>True</td>\n",
       "      <td>normEd</td>\n",
       "      <td>Normalise energies and convert to kcal/mol</td>\n",
       "    </tr>\n",
       "    <tr>\n",
       "      <th>v</th>\n",
       "      <td>True</td>\n",
       "      <td>verbose</td>\n",
       "      <td>Whether to print out some progress</td>\n",
       "    </tr>\n",
       "    <tr>\n",
       "      <th>d</th>\n",
       "      <td>MBTR</td>\n",
       "      <td>descname</td>\n",
       "      <td>[CM]/[MBTR]/[SOAP] Which descriptor to use</td>\n",
       "    </tr>\n",
       "    <tr>\n",
       "      <th>pd</th>\n",
       "      <td>True</td>\n",
       "      <td>plotDescs</td>\n",
       "      <td>Whether to plot Descriptors</td>\n",
       "    </tr>\n",
       "    <tr>\n",
       "      <th>pc</th>\n",
       "      <td>True</td>\n",
       "      <td>plotClustering</td>\n",
       "      <td>Whether to visualize clustering results. Uses hierarchical clustering and rather greedy t-SNE</td>\n",
       "    </tr>\n",
       "  </tbody>\n",
       "</table>\n",
       "</div>"
      ],
      "text/plain": [
       "          value              name  \\\n",
       "parameter                           \n",
       "n          1     n_jobs             \n",
       "k          15    n_clusters_init    \n",
       "c          3     n_clusters_out     \n",
       "m          4     n_molecules        \n",
       "r          True  sampling           \n",
       "s          20    n_structures_out   \n",
       "l          XTB   level              \n",
       "e          True  normEd             \n",
       "v          True  verbose            \n",
       "d          MBTR  descname           \n",
       "pd         True  plotDescs          \n",
       "pc         True  plotClustering     \n",
       "\n",
       "                                                                                             description  \n",
       "parameter                                                                                                 \n",
       "n          Provide the number of parallel jobs                                                            \n",
       "k          Provide the number of initial clusters for k-means                                             \n",
       "c          Provide the number of clusters selected from k-means                                           \n",
       "m          Number of molecules in the given system                                                        \n",
       "r          Whether to select a random sample from the best n_clusters_out                                 \n",
       "s          Provide the number of structures = local minima outputted                                      \n",
       "l          [XTB]/[DFT] Whether to perform selection on XTB or DFT structures                              \n",
       "e          Normalise energies and convert to kcal/mol                                                     \n",
       "v          Whether to print out some progress                                                             \n",
       "d          [CM]/[MBTR]/[SOAP] Which descriptor to use                                                     \n",
       "pd         Whether to plot Descriptors                                                                    \n",
       "pc         Whether to visualize clustering results. Uses hierarchical clustering and rather greedy t-SNE  "
      ]
     },
     "execution_count": 6,
     "metadata": {},
     "output_type": "execute_result"
    }
   ],
   "source": [
    "args"
   ]
  },
  {
   "cell_type": "code",
   "execution_count": 7,
   "metadata": {},
   "outputs": [
    {
     "name": "stdout",
     "output_type": "stream",
     "text": [
      "['dimgrey', 'red', 'indianred', 'darkorange', 'gold', 'greenyellow', 'darkgreen', 'limegreen', 'cyan', 'dodgerblue', 'royalblue', 'blue', 'blueviolet', 'plum', 'deeppink']\n"
     ]
    },
    {
     "data": {
      "image/png": "[encoded data removed]",
      "text/plain": [
       "<Figure size 432x288 with 1 Axes>"
      ]
     },
     "metadata": {
      "needs_background": "light"
     },
     "output_type": "display_data"
    }
   ],
   "source": [
    "# use custom colormap\n",
    "print(cmap.own_cmap(n_clusters_init))   # Print the names of the colors\n",
    "cmap.visualise_colors(n_clusters_init)  # Plot the colors as barplot"
   ]
  },
  {
   "cell_type": "code",
   "execution_count": 8,
   "metadata": {},
   "outputs": [
    {
     "name": "stdout",
     "output_type": "stream",
     "text": [
      "$WRKDIR: /Users/matijaas/Documents/GitHub/ClusterinClusters\n"
     ]
    }
   ],
   "source": [
    "# Get current working directory\n",
    "wrkdir = os.getcwd()\n",
    "print('$WRKDIR: {}'.format(wrkdir))"
   ]
  },
  {
   "cell_type": "code",
   "execution_count": 9,
   "metadata": {},
   "outputs": [
    {
     "name": "stdout",
     "output_type": "stream",
     "text": [
      "🥳 Make folder for plots.\n",
      "[Errno 17] File exists: '/Users/matijaas/Documents/GitHub/ClusterinClusters/plots'\n",
      "⏱  Time elapsed: 0.5397855299999996 sec\n"
     ]
    }
   ],
   "source": [
    "if verbose: print(\"🥳 Make folder for plots.\")\n",
    "# Make output-folder for plots\n",
    "path_output = dataio.init_files(wrkdir)\n",
    "if verbose: print(\"⏱  Time elapsed: {} sec\".format(timer()-start))"
   ]
  },
  {
   "cell_type": "code",
   "execution_count": 10,
   "metadata": {},
   "outputs": [
    {
     "name": "stdout",
     "output_type": "stream",
     "text": [
      "🥳 Read in XTB-data and structures.\n"
     ]
    }
   ],
   "source": [
    "if verbose: print(\"🥳 Read in {}-data and structures.\".format(level))\n",
    "data_df = dataio.read_data(level,normEd)\n",
    "structure_index = data_df.index\n",
    "xyz_df = dataio.read_xyz(level,structure_index)"
   ]
  },
  {
   "cell_type": "markdown",
   "metadata": {},
   "source": [
    "#### Structure info\n",
    "\n",
    "> Choose a structure by index as representative for aquiring the elements and the size of the cluster\n",
    "- Get the list of atom names in the cluster\n",
    "- Make unique list of atom names\n",
    "- get the number of atoms\n",
    "- Visualise the structure\n",
    "```"
   ]
  },
  {
   "cell_type": "code",
   "execution_count": 11,
   "metadata": {},
   "outputs": [
    {
     "name": "stdout",
     "output_type": "stream",
     "text": [
      "🥳 Here's some info for you:\n",
      "🔘 The example structure 112_1_0.xyz have 19 atoms of these elements: ['H', 'C', 'S', 'O', 'N']\n",
      "⏱  Time elapsed: 1.096230168 sec\n"
     ]
    }
   ],
   "source": [
    "if verbose: print(\"🥳 Here's some info for you:\")\n",
    "zero_structure, zero_name, chemsyms, chemsyms_uniques, n_atoms = dataio.get_structure(xyz_df,1)\n",
    "if verbose: print(\"⏱  Time elapsed: {} sec\".format(timer()-start))"
   ]
  },
  {
   "cell_type": "markdown",
   "metadata": {},
   "source": [
    "zero_name,chemsyms_uniques,n_atoms"
   ]
  },
  {
   "cell_type": "markdown",
   "metadata": {},
   "source": [
    "#### Visualization\n",
    "[tutorial](https://wiki.fysik.dtu.dk/ase/ase/visualize/visualize.html)\n",
    "\n",
    "- nice function for visualization by fullmetalfelix(ML-CSC-tutorial)\n",
    "- Use the function for one structure at a time"
   ]
  },
  {
   "cell_type": "code",
   "execution_count": 12,
   "metadata": {},
   "outputs": [],
   "source": [
    "def view(atoms):\n",
    "    \"\"\"\n",
    "    input: ASE structure\n",
    "    output: interactive visualization\n",
    "    \"\"\"\n",
    "    obj = ase.visualize.view(atoms, viewer=\"x3d\")\n",
    "    string = obj.data\n",
    "    display(HTML(string))"
   ]
  },
  {
   "cell_type": "code",
   "execution_count": 13,
   "metadata": {},
   "outputs": [
    {
     "data": {
      "text/html": [
       "<html>\n",
       "\n",
       " <head>\n",
       "\n",
       "  <title>ASE atomic visualization</title>\n",
       "\n",
       "  <link rel=\"stylesheet\" type=\"text/css\"\n",
       "\n",
       "   href=\"https://www.x3dom.org/x3dom/release/x3dom.css\">\n",
       "\n",
       "  </link>\n",
       "\n",
       "  <script type=\"text/javascript\"\n",
       "\n",
       "   src=\"https://www.x3dom.org/x3dom/release/x3dom.js\">\n",
       "\n",
       "  </script>\n",
       "\n",
       " </head>\n",
       "\n",
       " <body>\n",
       "\n",
       "  <X3D style=\"margin:0; padding:0; width:100%; height:100%; border:none;\">\n",
       "\n",
       "   <Scene>\n",
       "\n",
       "    <Transform translation=\"1.17 -2.29 1.64\">\n",
       "\n",
       "     <Shape>\n",
       "\n",
       "      <Appearance>\n",
       "\n",
       "       <Material diffuseColor=\"0.565 0.565 0.565\" specularColor=\"0.5 0.5 0.5\">\n",
       "\n",
       "       </Material>\n",
       "\n",
       "      </Appearance>\n",
       "\n",
       "      <Sphere radius=\"0.76\">\n",
       "\n",
       "      </Sphere>\n",
       "\n",
       "     </Shape>\n",
       "\n",
       "    </Transform>\n",
       "\n",
       "    <Transform translation=\"0.46 -0.92 0.74\">\n",
       "\n",
       "     <Shape>\n",
       "\n",
       "      <Appearance>\n",
       "\n",
       "       <Material diffuseColor=\"1.000 1.000 0.188\" specularColor=\"0.5 0.5 0.5\">\n",
       "\n",
       "       </Material>\n",
       "\n",
       "      </Appearance>\n",
       "\n",
       "      <Sphere radius=\"1.05\">\n",
       "\n",
       "      </Sphere>\n",
       "\n",
       "     </Shape>\n",
       "\n",
       "    </Transform>\n",
       "\n",
       "    <Transform translation=\"0.98 0.32 1.34\">\n",
       "\n",
       "     <Shape>\n",
       "\n",
       "      <Appearance>\n",
       "\n",
       "       <Material diffuseColor=\"1.000 0.051 0.051\" specularColor=\"0.5 0.5 0.5\">\n",
       "\n",
       "       </Material>\n",
       "\n",
       "      </Appearance>\n",
       "\n",
       "      <Sphere radius=\"0.66\">\n",
       "\n",
       "      </Sphere>\n",
       "\n",
       "     </Shape>\n",
       "\n",
       "    </Transform>\n",
       "\n",
       "    <Transform translation=\"0.91 -1.06 -0.66\">\n",
       "\n",
       "     <Shape>\n",
       "\n",
       "      <Appearance>\n",
       "\n",
       "       <Material diffuseColor=\"1.000 0.051 0.051\" specularColor=\"0.5 0.5 0.5\">\n",
       "\n",
       "       </Material>\n",
       "\n",
       "      </Appearance>\n",
       "\n",
       "      <Sphere radius=\"0.66\">\n",
       "\n",
       "      </Sphere>\n",
       "\n",
       "     </Shape>\n",
       "\n",
       "    </Transform>\n",
       "\n",
       "    <Transform translation=\"-0.99 -1.02 0.84\">\n",
       "\n",
       "     <Shape>\n",
       "\n",
       "      <Appearance>\n",
       "\n",
       "       <Material diffuseColor=\"1.000 0.051 0.051\" specularColor=\"0.5 0.5 0.5\">\n",
       "\n",
       "       </Material>\n",
       "\n",
       "      </Appearance>\n",
       "\n",
       "      <Sphere radius=\"0.66\">\n",
       "\n",
       "      </Sphere>\n",
       "\n",
       "     </Shape>\n",
       "\n",
       "    </Transform>\n",
       "\n",
       "    <Transform translation=\"0.80 -3.20 1.18\">\n",
       "\n",
       "     <Shape>\n",
       "\n",
       "      <Appearance>\n",
       "\n",
       "       <Material diffuseColor=\"1.000 1.000 1.000\" specularColor=\"0.5 0.5 0.5\">\n",
       "\n",
       "       </Material>\n",
       "\n",
       "      </Appearance>\n",
       "\n",
       "      <Sphere radius=\"0.31\">\n",
       "\n",
       "      </Sphere>\n",
       "\n",
       "     </Shape>\n",
       "\n",
       "    </Transform>\n",
       "\n",
       "    <Transform translation=\"2.25 -2.22 1.55\">\n",
       "\n",
       "     <Shape>\n",
       "\n",
       "      <Appearance>\n",
       "\n",
       "       <Material diffuseColor=\"1.000 1.000 1.000\" specularColor=\"0.5 0.5 0.5\">\n",
       "\n",
       "       </Material>\n",
       "\n",
       "      </Appearance>\n",
       "\n",
       "      <Sphere radius=\"0.31\">\n",
       "\n",
       "      </Sphere>\n",
       "\n",
       "     </Shape>\n",
       "\n",
       "    </Transform>\n",
       "\n",
       "    <Transform translation=\"0.86 -2.21 2.67\">\n",
       "\n",
       "     <Shape>\n",
       "\n",
       "      <Appearance>\n",
       "\n",
       "       <Material diffuseColor=\"1.000 1.000 1.000\" specularColor=\"0.5 0.5 0.5\">\n",
       "\n",
       "       </Material>\n",
       "\n",
       "      </Appearance>\n",
       "\n",
       "      <Sphere radius=\"0.31\">\n",
       "\n",
       "      </Sphere>\n",
       "\n",
       "     </Shape>\n",
       "\n",
       "    </Transform>\n",
       "\n",
       "    <Transform translation=\"-0.18 0.94 -1.85\">\n",
       "\n",
       "     <Shape>\n",
       "\n",
       "      <Appearance>\n",
       "\n",
       "       <Material diffuseColor=\"0.188 0.314 0.973\" specularColor=\"0.5 0.5 0.5\">\n",
       "\n",
       "       </Material>\n",
       "\n",
       "      </Appearance>\n",
       "\n",
       "      <Sphere radius=\"0.71\">\n",
       "\n",
       "      </Sphere>\n",
       "\n",
       "     </Shape>\n",
       "\n",
       "    </Transform>\n",
       "\n",
       "    <Transform translation=\"-1.19 0.77 -1.63\">\n",
       "\n",
       "     <Shape>\n",
       "\n",
       "      <Appearance>\n",
       "\n",
       "       <Material diffuseColor=\"1.000 1.000 1.000\" specularColor=\"0.5 0.5 0.5\">\n",
       "\n",
       "       </Material>\n",
       "\n",
       "      </Appearance>\n",
       "\n",
       "      <Sphere radius=\"0.31\">\n",
       "\n",
       "      </Sphere>\n",
       "\n",
       "     </Shape>\n",
       "\n",
       "    </Transform>\n",
       "\n",
       "    <Transform translation=\"-0.01 1.08 -2.84\">\n",
       "\n",
       "     <Shape>\n",
       "\n",
       "      <Appearance>\n",
       "\n",
       "       <Material diffuseColor=\"1.000 1.000 1.000\" specularColor=\"0.5 0.5 0.5\">\n",
       "\n",
       "       </Material>\n",
       "\n",
       "      </Appearance>\n",
       "\n",
       "      <Sphere radius=\"0.31\">\n",
       "\n",
       "      </Sphere>\n",
       "\n",
       "     </Shape>\n",
       "\n",
       "    </Transform>\n",
       "\n",
       "    <Transform translation=\"0.18 1.74 -1.27\">\n",
       "\n",
       "     <Shape>\n",
       "\n",
       "      <Appearance>\n",
       "\n",
       "       <Material diffuseColor=\"1.000 1.000 1.000\" specularColor=\"0.5 0.5 0.5\">\n",
       "\n",
       "       </Material>\n",
       "\n",
       "      </Appearance>\n",
       "\n",
       "      <Sphere radius=\"0.31\">\n",
       "\n",
       "      </Sphere>\n",
       "\n",
       "     </Shape>\n",
       "\n",
       "    </Transform>\n",
       "\n",
       "    <Transform translation=\"0.34 0.06 -1.47\">\n",
       "\n",
       "     <Shape>\n",
       "\n",
       "      <Appearance>\n",
       "\n",
       "       <Material diffuseColor=\"1.000 1.000 1.000\" specularColor=\"0.5 0.5 0.5\">\n",
       "\n",
       "       </Material>\n",
       "\n",
       "      </Appearance>\n",
       "\n",
       "      <Sphere radius=\"0.31\">\n",
       "\n",
       "      </Sphere>\n",
       "\n",
       "     </Shape>\n",
       "\n",
       "    </Transform>\n",
       "\n",
       "    <Transform translation=\"0.81 2.56 0.02\">\n",
       "\n",
       "     <Shape>\n",
       "\n",
       "      <Appearance>\n",
       "\n",
       "       <Material diffuseColor=\"1.000 0.051 0.051\" specularColor=\"0.5 0.5 0.5\">\n",
       "\n",
       "       </Material>\n",
       "\n",
       "      </Appearance>\n",
       "\n",
       "      <Sphere radius=\"0.66\">\n",
       "\n",
       "      </Sphere>\n",
       "\n",
       "     </Shape>\n",
       "\n",
       "    </Transform>\n",
       "\n",
       "    <Transform translation=\"0.98 1.74 0.55\">\n",
       "\n",
       "     <Shape>\n",
       "\n",
       "      <Appearance>\n",
       "\n",
       "       <Material diffuseColor=\"1.000 1.000 1.000\" specularColor=\"0.5 0.5 0.5\">\n",
       "\n",
       "       </Material>\n",
       "\n",
       "      </Appearance>\n",
       "\n",
       "      <Sphere radius=\"0.31\">\n",
       "\n",
       "      </Sphere>\n",
       "\n",
       "     </Shape>\n",
       "\n",
       "    </Transform>\n",
       "\n",
       "    <Transform translation=\"0.32 3.14 0.60\">\n",
       "\n",
       "     <Shape>\n",
       "\n",
       "      <Appearance>\n",
       "\n",
       "       <Material diffuseColor=\"1.000 1.000 1.000\" specularColor=\"0.5 0.5 0.5\">\n",
       "\n",
       "       </Material>\n",
       "\n",
       "      </Appearance>\n",
       "\n",
       "      <Sphere radius=\"0.31\">\n",
       "\n",
       "      </Sphere>\n",
       "\n",
       "     </Shape>\n",
       "\n",
       "    </Transform>\n",
       "\n",
       "    <Transform translation=\"-2.54 0.20 -0.87\">\n",
       "\n",
       "     <Shape>\n",
       "\n",
       "      <Appearance>\n",
       "\n",
       "       <Material diffuseColor=\"1.000 0.051 0.051\" specularColor=\"0.5 0.5 0.5\">\n",
       "\n",
       "       </Material>\n",
       "\n",
       "      </Appearance>\n",
       "\n",
       "      <Sphere radius=\"0.66\">\n",
       "\n",
       "      </Sphere>\n",
       "\n",
       "     </Shape>\n",
       "\n",
       "    </Transform>\n",
       "\n",
       "    <Transform translation=\"-2.02 -0.36 -0.23\">\n",
       "\n",
       "     <Shape>\n",
       "\n",
       "      <Appearance>\n",
       "\n",
       "       <Material diffuseColor=\"1.000 1.000 1.000\" specularColor=\"0.5 0.5 0.5\">\n",
       "\n",
       "       </Material>\n",
       "\n",
       "      </Appearance>\n",
       "\n",
       "      <Sphere radius=\"0.31\">\n",
       "\n",
       "      </Sphere>\n",
       "\n",
       "     </Shape>\n",
       "\n",
       "    </Transform>\n",
       "\n",
       "    <Transform translation=\"-3.13 0.72 -0.32\">\n",
       "\n",
       "     <Shape>\n",
       "\n",
       "      <Appearance>\n",
       "\n",
       "       <Material diffuseColor=\"1.000 1.000 1.000\" specularColor=\"0.5 0.5 0.5\">\n",
       "\n",
       "       </Material>\n",
       "\n",
       "      </Appearance>\n",
       "\n",
       "      <Sphere radius=\"0.31\">\n",
       "\n",
       "      </Sphere>\n",
       "\n",
       "     </Shape>\n",
       "\n",
       "    </Transform>\n",
       "\n",
       "   </Scene>\n",
       "\n",
       "  </X3D>\n",
       "\n",
       " </body>\n",
       "\n",
       "</html>\n",
       "\n"
      ],
      "text/plain": [
       "<IPython.core.display.HTML object>"
      ]
     },
     "metadata": {},
     "output_type": "display_data"
    }
   ],
   "source": [
    "view(zero_structure)"
   ]
  },
  {
   "cell_type": "code",
   "execution_count": 14,
   "metadata": {},
   "outputs": [
    {
     "name": "stdout",
     "output_type": "stream",
     "text": [
      "🥳 Set up descriptors:\n",
      "🔘 Created MBTR-descriptors for all 577 XTB-structures.\n",
      "    Number of features in MBTR: 9500\n",
      "⏱  Time elapsed: 35.74068976 sec\n"
     ]
    }
   ],
   "source": [
    "if verbose: print(\"🥳 Set up descriptors:\")\n",
    "descs_df, n_feat = dd.setupDescs(xyz_df.ase, structure_index, level, descname, chemsyms_uniques, n_atoms, n_jobs, verbose)\n",
    "if verbose: print(\"⏱  Time elapsed: {} sec\".format(timer()-start))"
   ]
  },
  {
   "cell_type": "code",
   "execution_count": 15,
   "metadata": {},
   "outputs": [
    {
     "name": "stdout",
     "output_type": "stream",
     "text": [
      "🥳 Make dendrogram\n"
     ]
    },
    {
     "data": {
      "image/png": "[encoded data removed]",
      "text/plain": [
       "<Figure size 1152x432 with 1 Axes>"
      ]
     },
     "metadata": {
      "needs_background": "light"
     },
     "output_type": "display_data"
    },
    {
     "name": "stdout",
     "output_type": "stream",
     "text": [
      "⏱  Time elapsed: 51.442071312 sec\n"
     ]
    }
   ],
   "source": [
    "if plotC:\n",
    "    if verbose: print(\"🥳 Make dendrogram\")\n",
    "    viz.makeDend(descs_df, structure_index, level, descname, n_jobs, verbose, path_output, onlyShow=True)\n",
    "    if verbose: print(\"⏱  Time elapsed: {} sec\".format(timer()-start))"
   ]
  },
  {
   "cell_type": "code",
   "execution_count": 16,
   "metadata": {},
   "outputs": [
    {
     "name": "stdout",
     "output_type": "stream",
     "text": [
      "🥳 Start clustering:\n",
      "🔘 Clustering done\n",
      "⏱  Time elapsed: 58.202768338000006 sec\n"
     ]
    }
   ],
   "source": [
    "if verbose: print(\"🥳 Start clustering:\")\n",
    "kmeans_results = sel.calcKmeans(descs_df, n_clusters_init, n_jobs, verbose)\n",
    "data_df[\"{}_{}_klabel\".format(level, descname)] = kmeans_results\n",
    "if verbose: print(\"⏱  Time elapsed: {} sec\".format(timer()-start))"
   ]
  },
  {
   "cell_type": "markdown",
   "metadata": {},
   "source": [
    "### Structure selection"
   ]
  },
  {
   "cell_type": "code",
   "execution_count": 17,
   "metadata": {},
   "outputs": [
    {
     "name": "stdout",
     "output_type": "stream",
     "text": [
      "🥳 Calc cluster average energies and perform structure selection:\n",
      "🔘 Structure selection done with random sampling.\n",
      "⏱  Time elapsed: 58.315073511 sec\n"
     ]
    }
   ],
   "source": [
    "if verbose: print(\"🥳 Calc cluster average energies and perform structure selection:\")\n",
    "EAvg_df = sel.calcEAvg(data_df, level, descname, n_clusters_init)\n",
    "best_df, selected = sel.getBestClusters(data_df, level, descname, n_clusters_init, n_clusters_out, n_structures_out, sampl)\n",
    "if verbose: print(\"⏱  Time elapsed: {} sec\".format(timer()-start))"
   ]
  },
  {
   "cell_type": "code",
   "execution_count": 18,
   "metadata": {},
   "outputs": [],
   "source": [
    "data_df[\"selected\"] = selected"
   ]
  },
  {
   "cell_type": "code",
   "execution_count": 19,
   "metadata": {},
   "outputs": [],
   "source": [
    "data_df.selected.replace(to_replace=True,value=\"star\",inplace=True)\n",
    "data_df.selected.replace(to_replace=False,value=\"circle\",inplace=True)"
   ]
  },
  {
   "cell_type": "markdown",
   "metadata": {},
   "source": [
    "### Energy plotting\n",
    "\n",
    "Reasonable values usually $2.4 \\times M$ kcal/mol where $M$ number of molecules"
   ]
  },
  {
   "cell_type": "code",
   "execution_count": 20,
   "metadata": {},
   "outputs": [],
   "source": [
    "E_lim = 5 * M"
   ]
  },
  {
   "cell_type": "code",
   "execution_count": 21,
   "metadata": {},
   "outputs": [
    {
     "name": "stdout",
     "output_type": "stream",
     "text": [
      "🥳 Calculate t-SNE:\n",
      "🔘 Finished t-SNE 2D for visualization for all 577 MBTR's\n"
     ]
    },
    {
     "ename": "ValueError",
     "evalue": "Value of 'symbol' is not the name of a column in 'data_frame'. Expected one of ['path2xyz', 'GyRadius', 'XTBEnergy', 'Dipole', 'xyzs', 'XTB_MBTR_klabel', 'selected', 'XTB_MBTR_tsne1', 'XTB_MBTR_tsne2'] but received: star",
     "output_type": "error",
     "traceback": [
      "\u001b[0;31m---------------------------------------------------------------------------\u001b[0m",
      "\u001b[0;31mValueError\u001b[0m                                Traceback (most recent call last)",
      "\u001b[0;32m<ipython-input-21-53e4f21f9e85>\u001b[0m in \u001b[0;36m<module>\u001b[0;34m\u001b[0m\n\u001b[1;32m      4\u001b[0m     \u001b[0mdata_df\u001b[0m\u001b[0;34m[\u001b[0m\u001b[0;34m\"{}_{}_tsne1\"\u001b[0m\u001b[0;34m.\u001b[0m\u001b[0mformat\u001b[0m\u001b[0;34m(\u001b[0m\u001b[0mlevel\u001b[0m\u001b[0;34m,\u001b[0m \u001b[0mdescname\u001b[0m\u001b[0;34m)\u001b[0m\u001b[0;34m]\u001b[0m \u001b[0;34m=\u001b[0m \u001b[0mtsne_df\u001b[0m\u001b[0;34m.\u001b[0m\u001b[0miloc\u001b[0m\u001b[0;34m[\u001b[0m\u001b[0;34m:\u001b[0m\u001b[0;34m,\u001b[0m\u001b[0;36m0\u001b[0m\u001b[0;34m]\u001b[0m\u001b[0;34m\u001b[0m\u001b[0;34m\u001b[0m\u001b[0m\n\u001b[1;32m      5\u001b[0m     \u001b[0mdata_df\u001b[0m\u001b[0;34m[\u001b[0m\u001b[0;34m\"{}_{}_tsne2\"\u001b[0m\u001b[0;34m.\u001b[0m\u001b[0mformat\u001b[0m\u001b[0;34m(\u001b[0m\u001b[0mlevel\u001b[0m\u001b[0;34m,\u001b[0m \u001b[0mdescname\u001b[0m\u001b[0;34m)\u001b[0m\u001b[0;34m]\u001b[0m \u001b[0;34m=\u001b[0m \u001b[0mtsne_df\u001b[0m\u001b[0;34m.\u001b[0m\u001b[0miloc\u001b[0m\u001b[0;34m[\u001b[0m\u001b[0;34m:\u001b[0m\u001b[0;34m,\u001b[0m\u001b[0;36m1\u001b[0m\u001b[0;34m]\u001b[0m\u001b[0;34m\u001b[0m\u001b[0;34m\u001b[0m\u001b[0m\n\u001b[0;32m----> 6\u001b[0;31m     \u001b[0mviz\u001b[0m\u001b[0;34m.\u001b[0m\u001b[0mplotTsneE_3D\u001b[0m\u001b[0;34m(\u001b[0m\u001b[0mdata_df\u001b[0m\u001b[0;34m,\u001b[0m \u001b[0mlevel\u001b[0m\u001b[0;34m,\u001b[0m \u001b[0mdescname\u001b[0m\u001b[0;34m,\u001b[0m \u001b[0mverbose\u001b[0m\u001b[0;34m,\u001b[0m \u001b[0mpath_output\u001b[0m\u001b[0;34m,\u001b[0m \u001b[0mE_lim\u001b[0m\u001b[0;34m,\u001b[0m \u001b[0mcmap\u001b[0m\u001b[0;34m.\u001b[0m\u001b[0mown_cmap\u001b[0m\u001b[0;34m(\u001b[0m\u001b[0mn_clusters_init\u001b[0m\u001b[0;34m)\u001b[0m\u001b[0;34m,\u001b[0m\u001b[0monlyShow\u001b[0m\u001b[0;34m=\u001b[0m\u001b[0;32mTrue\u001b[0m\u001b[0;34m)\u001b[0m\u001b[0;34m\u001b[0m\u001b[0;34m\u001b[0m\u001b[0m\n\u001b[0m\u001b[1;32m      7\u001b[0m     \u001b[0;32mif\u001b[0m \u001b[0mverbose\u001b[0m\u001b[0;34m:\u001b[0m \u001b[0mprint\u001b[0m\u001b[0;34m(\u001b[0m\u001b[0;34m\"⏱  Time elapsed: {} sec\"\u001b[0m\u001b[0;34m.\u001b[0m\u001b[0mformat\u001b[0m\u001b[0;34m(\u001b[0m\u001b[0mtimer\u001b[0m\u001b[0;34m(\u001b[0m\u001b[0;34m)\u001b[0m\u001b[0;34m-\u001b[0m\u001b[0mstart\u001b[0m\u001b[0;34m)\u001b[0m\u001b[0;34m)\u001b[0m\u001b[0;34m\u001b[0m\u001b[0;34m\u001b[0m\u001b[0m\n",
      "\u001b[0;32m~/Documents/GitHub/ClusterinClusters/modules/visualize.py\u001b[0m in \u001b[0;36mplotTsneE_3D\u001b[0;34m(datadf, level, descname, v, path_output, Efilter, own_cmap, clustermethod, onlyShow)\u001b[0m\n\u001b[1;32m     83\u001b[0m               \u001b[0;31m#range_z=[-36,-20],\u001b[0m\u001b[0;34m\u001b[0m\u001b[0;34m\u001b[0m\u001b[0;34m\u001b[0m\u001b[0m\n\u001b[1;32m     84\u001b[0m               \u001b[0mwidth\u001b[0m\u001b[0;34m=\u001b[0m \u001b[0;36m1200\u001b[0m\u001b[0;34m,\u001b[0m\u001b[0;34m\u001b[0m\u001b[0;34m\u001b[0m\u001b[0m\n\u001b[0;32m---> 85\u001b[0;31m               height= 900)\n\u001b[0m\u001b[1;32m     86\u001b[0m \u001b[0;34m\u001b[0m\u001b[0m\n\u001b[1;32m     87\u001b[0m \u001b[0;34m\u001b[0m\u001b[0m\n",
      "\u001b[0;32m//anaconda3/lib/python3.7/site-packages/plotly/express/_chart_types.py\u001b[0m in \u001b[0;36mscatter_3d\u001b[0;34m(data_frame, x, y, z, color, symbol, size, text, hover_name, hover_data, custom_data, error_x, error_x_minus, error_y, error_y_minus, error_z, error_z_minus, animation_frame, animation_group, category_orders, labels, size_max, color_discrete_sequence, color_discrete_map, color_continuous_scale, range_color, color_continuous_midpoint, symbol_sequence, symbol_map, opacity, log_x, log_y, log_z, range_x, range_y, range_z, title, template, width, height)\u001b[0m\n\u001b[1;32m    579\u001b[0m     \u001b[0msymbol\u001b[0m \u001b[0mmark\u001b[0m \u001b[0;32min\u001b[0m \u001b[0;36m3\u001b[0m\u001b[0mD\u001b[0m \u001b[0mspace\u001b[0m\u001b[0;34m.\u001b[0m\u001b[0;34m\u001b[0m\u001b[0;34m\u001b[0m\u001b[0m\n\u001b[1;32m    580\u001b[0m     \"\"\"\n\u001b[0;32m--> 581\u001b[0;31m     \u001b[0;32mreturn\u001b[0m \u001b[0mmake_figure\u001b[0m\u001b[0;34m(\u001b[0m\u001b[0margs\u001b[0m\u001b[0;34m=\u001b[0m\u001b[0mlocals\u001b[0m\u001b[0;34m(\u001b[0m\u001b[0;34m)\u001b[0m\u001b[0;34m,\u001b[0m \u001b[0mconstructor\u001b[0m\u001b[0;34m=\u001b[0m\u001b[0mgo\u001b[0m\u001b[0;34m.\u001b[0m\u001b[0mScatter3d\u001b[0m\u001b[0;34m)\u001b[0m\u001b[0;34m\u001b[0m\u001b[0;34m\u001b[0m\u001b[0m\n\u001b[0m\u001b[1;32m    582\u001b[0m \u001b[0;34m\u001b[0m\u001b[0m\n\u001b[1;32m    583\u001b[0m \u001b[0;34m\u001b[0m\u001b[0m\n",
      "\u001b[0;32m//anaconda3/lib/python3.7/site-packages/plotly/express/_core.py\u001b[0m in \u001b[0;36mmake_figure\u001b[0;34m(args, constructor, trace_patch, layout_patch)\u001b[0m\n\u001b[1;32m   1366\u001b[0m \u001b[0;34m\u001b[0m\u001b[0m\n\u001b[1;32m   1367\u001b[0m     args, trace_specs, grouped_mappings, sizeref, show_colorbar = infer_config(\n\u001b[0;32m-> 1368\u001b[0;31m         \u001b[0margs\u001b[0m\u001b[0;34m,\u001b[0m \u001b[0mconstructor\u001b[0m\u001b[0;34m,\u001b[0m \u001b[0mtrace_patch\u001b[0m\u001b[0;34m\u001b[0m\u001b[0;34m\u001b[0m\u001b[0m\n\u001b[0m\u001b[1;32m   1369\u001b[0m     )\n\u001b[1;32m   1370\u001b[0m     \u001b[0mgrouper\u001b[0m \u001b[0;34m=\u001b[0m \u001b[0;34m[\u001b[0m\u001b[0mx\u001b[0m\u001b[0;34m.\u001b[0m\u001b[0mgrouper\u001b[0m \u001b[0;32mor\u001b[0m \u001b[0mone_group\u001b[0m \u001b[0;32mfor\u001b[0m \u001b[0mx\u001b[0m \u001b[0;32min\u001b[0m \u001b[0mgrouped_mappings\u001b[0m\u001b[0;34m]\u001b[0m \u001b[0;32mor\u001b[0m \u001b[0;34m[\u001b[0m\u001b[0mone_group\u001b[0m\u001b[0;34m]\u001b[0m\u001b[0;34m\u001b[0m\u001b[0;34m\u001b[0m\u001b[0m\n",
      "\u001b[0;32m//anaconda3/lib/python3.7/site-packages/plotly/express/_core.py\u001b[0m in \u001b[0;36minfer_config\u001b[0;34m(args, constructor, trace_patch)\u001b[0m\n\u001b[1;32m   1209\u001b[0m             \u001b[0mall_attrables\u001b[0m \u001b[0;34m+=\u001b[0m \u001b[0;34m[\u001b[0m\u001b[0mgroup_attr\u001b[0m\u001b[0;34m]\u001b[0m\u001b[0;34m\u001b[0m\u001b[0;34m\u001b[0m\u001b[0m\n\u001b[1;32m   1210\u001b[0m \u001b[0;34m\u001b[0m\u001b[0m\n\u001b[0;32m-> 1211\u001b[0;31m     \u001b[0margs\u001b[0m \u001b[0;34m=\u001b[0m \u001b[0mbuild_dataframe\u001b[0m\u001b[0;34m(\u001b[0m\u001b[0margs\u001b[0m\u001b[0;34m,\u001b[0m \u001b[0mall_attrables\u001b[0m\u001b[0;34m,\u001b[0m \u001b[0marray_attrables\u001b[0m\u001b[0;34m)\u001b[0m\u001b[0;34m\u001b[0m\u001b[0;34m\u001b[0m\u001b[0m\n\u001b[0m\u001b[1;32m   1212\u001b[0m     \u001b[0;32mif\u001b[0m \u001b[0mconstructor\u001b[0m \u001b[0;32min\u001b[0m \u001b[0;34m[\u001b[0m\u001b[0mgo\u001b[0m\u001b[0;34m.\u001b[0m\u001b[0mTreemap\u001b[0m\u001b[0;34m,\u001b[0m \u001b[0mgo\u001b[0m\u001b[0;34m.\u001b[0m\u001b[0mSunburst\u001b[0m\u001b[0;34m]\u001b[0m \u001b[0;32mand\u001b[0m \u001b[0margs\u001b[0m\u001b[0;34m[\u001b[0m\u001b[0;34m\"path\"\u001b[0m\u001b[0;34m]\u001b[0m \u001b[0;32mis\u001b[0m \u001b[0;32mnot\u001b[0m \u001b[0;32mNone\u001b[0m\u001b[0;34m:\u001b[0m\u001b[0;34m\u001b[0m\u001b[0;34m\u001b[0m\u001b[0m\n\u001b[1;32m   1213\u001b[0m         \u001b[0margs\u001b[0m \u001b[0;34m=\u001b[0m \u001b[0mprocess_dataframe_hierarchy\u001b[0m\u001b[0;34m(\u001b[0m\u001b[0margs\u001b[0m\u001b[0;34m)\u001b[0m\u001b[0;34m\u001b[0m\u001b[0;34m\u001b[0m\u001b[0m\n",
      "\u001b[0;32m//anaconda3/lib/python3.7/site-packages/plotly/express/_core.py\u001b[0m in \u001b[0;36mbuild_dataframe\u001b[0;34m(args, attrables, array_attrables)\u001b[0m\n\u001b[1;32m    973\u001b[0m                             \u001b[0;34m\"\\n To use the index, pass it in directly as `df.index`.\"\u001b[0m\u001b[0;34m\u001b[0m\u001b[0;34m\u001b[0m\u001b[0m\n\u001b[1;32m    974\u001b[0m                         )\n\u001b[0;32m--> 975\u001b[0;31m                     \u001b[0;32mraise\u001b[0m \u001b[0mValueError\u001b[0m\u001b[0;34m(\u001b[0m\u001b[0merr_msg\u001b[0m\u001b[0;34m)\u001b[0m\u001b[0;34m\u001b[0m\u001b[0;34m\u001b[0m\u001b[0m\n\u001b[0m\u001b[1;32m    976\u001b[0m                 \u001b[0;32mif\u001b[0m \u001b[0mlength\u001b[0m \u001b[0;32mand\u001b[0m \u001b[0mlen\u001b[0m\u001b[0;34m(\u001b[0m\u001b[0mdf_input\u001b[0m\u001b[0;34m[\u001b[0m\u001b[0margument\u001b[0m\u001b[0;34m]\u001b[0m\u001b[0;34m)\u001b[0m \u001b[0;34m!=\u001b[0m \u001b[0mlength\u001b[0m\u001b[0;34m:\u001b[0m\u001b[0;34m\u001b[0m\u001b[0;34m\u001b[0m\u001b[0m\n\u001b[1;32m    977\u001b[0m                     raise ValueError(\n",
      "\u001b[0;31mValueError\u001b[0m: Value of 'symbol' is not the name of a column in 'data_frame'. Expected one of ['path2xyz', 'GyRadius', 'XTBEnergy', 'Dipole', 'xyzs', 'XTB_MBTR_klabel', 'selected', 'XTB_MBTR_tsne1', 'XTB_MBTR_tsne2'] but received: star"
     ]
    }
   ],
   "source": [
    "if plotC:\n",
    "    if verbose: print(\"🥳 Calculate t-SNE:\")\n",
    "    tsne_df = viz.makeTsne_2D(descs_df, structure_index, level, descname, n_clusters_init, n_jobs, verbose, path_output, kmeans_results, cmap.own_cmap(n_clusters_init))\n",
    "    data_df[\"{}_{}_tsne1\".format(level, descname)] = tsne_df.iloc[:,0]\n",
    "    data_df[\"{}_{}_tsne2\".format(level, descname)] = tsne_df.iloc[:,1]\n",
    "    viz.plotTsneE_3D(data_df, level, descname, verbose, path_output, E_lim, cmap.own_cmap(n_clusters_init),onlyShow=True)\n",
    "    if verbose: print(\"⏱  Time elapsed: {} sec\".format(timer()-start))"
   ]
  },
  {
   "cell_type": "code",
   "execution_count": null,
   "metadata": {},
   "outputs": [],
   "source": [
    "if plotD:\n",
    "    if verbose: print(\"🥳 Plotting example descriptor into plots-folder\")\n",
    "    best_index = best_df.iloc[:,2].idxmin(axis='columns')\n",
    "    dd.plotDescs(xyz_df.ase.loc[best_index], best_index, level, descname, chemsyms, n_atoms, n_jobs, verbose, path_output)\n",
    "    viz.struct2img(xyz_df.ase.loc[best_index], best_index, path_output)\n",
    "    if verbose: print(\"⏱  Time elapsed: {} sec\".format(timer()-start))"
   ]
  },
  {
   "cell_type": "code",
   "execution_count": null,
   "metadata": {},
   "outputs": [],
   "source": [
    "best_df.to_csv(\"{}/selected{}.csv\".format(wrkdir,level),sep='\\t',index=False)\n",
    "if verbose:\n",
    "    print(\"🔘 The list of selected structures are found in {}/selected{}_{}.csv\".format(wrkdir,level,descname))\n",
    "\n",
    "print(\"🥳 Clusterin'Clusters done! 🥳\")\n",
    "if verbose: print(\"⏱  Total time elapsed: {} sec\".format(timer()-start))"
   ]
  },
  {
   "cell_type": "code",
   "execution_count": null,
   "metadata": {},
   "outputs": [],
   "source": []
  },
  {
   "cell_type": "code",
   "execution_count": null,
   "metadata": {},
   "outputs": [],
   "source": []
  },
  {
   "cell_type": "markdown",
   "metadata": {},
   "source": [
    "### Tune Descriptor parameters"
   ]
  },
  {
   "cell_type": "markdown",
   "metadata": {},
   "source": [
    "### Coulomb matrix\n",
    "\n",
    "[tutorial](https://singroup.github.io/dscribe/tutorials/coulomb_matrix.html)"
   ]
  },
  {
   "cell_type": "code",
   "execution_count": null,
   "metadata": {},
   "outputs": [],
   "source": [
    "dd.plotDescs(zero_structure, zero_name, level, \"CM\", chemsyms, n_atoms, n_jobs, verbose, path_output, save=False)"
   ]
  },
  {
   "cell_type": "markdown",
   "metadata": {},
   "source": [
    "### Many-body Tensor Representation (MBTR)\n",
    "\n",
    "[Tutorial](https://singroup.github.io/dscribe/tutorials/mbtr.html)"
   ]
  },
  {
   "cell_type": "code",
   "execution_count": null,
   "metadata": {},
   "outputs": [],
   "source": [
    "# MBTR parameters\n",
    "mk1={\n",
    "        \"geometry\": {\"function\": \"atomic_number\"},\n",
    "        \"grid\": {\"min\": 0, \"max\": 18, \"n\": 100, \"sigma\": 0.6}, # org \"sigma\" : 0.1\n",
    "    }\n",
    "mk2={\n",
    "        \"geometry\": {\"function\": \"inverse_distance\"},\n",
    "        \"grid\": {\"min\": 0, \"max\": 2.5, \"n\": 100, \"sigma\": 0.08}, # org \"sigma#: 0.1, \"scale\": 0.5, \"cutoff\": 1e-3\n",
    "        \"weighting\": {\"function\": \"exponential\", \"scale\": 0.6, \"cutoff\": 1e-3},\n",
    "    }\n",
    "mk3={\n",
    "        \"geometry\": {\"function\": \"cosine\"},\n",
    "        \"grid\": {\"min\": -1, \"max\": 1, \"n\": 100, \"sigma\": 0.03}, # org \"sigma#: 0.1, \"scale\": 0.5, \"cutoff\": 1e-3\n",
    "        \"weighting\": {\"function\": \"exponential\", \"scale\": 0.2, \"cutoff\": 1e-3},\n",
    "    }\n",
    "\n",
    "# Nää pitää ehkä muutenkin optimoida\n",
    "# sigma: gaussian broadening\n",
    "# cutoff: to speed up calcs\n",
    "# scale: weighs the atoms that are further away. 1 is the equal weight\n",
    "# n: keep at 100 unless want to reduce n_features"
   ]
  },
  {
   "cell_type": "code",
   "execution_count": null,
   "metadata": {},
   "outputs": [],
   "source": [
    "dd.plotDescs(zero_structure, zero_name, level, \"MBTR\", chemsyms, n_atoms, n_jobs, verbose, path_output, save=False)"
   ]
  },
  {
   "cell_type": "markdown",
   "metadata": {},
   "source": [
    "### Smooth Overlap of Atomic Positions (SOAP)\n",
    "\n",
    "[tutorial](https://singroup.github.io/dscribe/tutorials/soap.html)"
   ]
  },
  {
   "cell_type": "code",
   "execution_count": null,
   "metadata": {},
   "outputs": [],
   "source": [
    "# SOAP parameters\n",
    "srcut = 6.0  # A cutoff for local region in angstroms. Should be bigger than 1 angstrom.\n",
    "snmax = 8    # The number of radial basis functions.\n",
    "slmax = 8    # The maximum degree of spherical harmonics.\n",
    "ssigma = 0.4 # org 1.0, The standard deviation of the gaussians used to expand the atomic density.\n",
    "srbf = 'gto'   # The radial basis functions to use. \n",
    "            # The available options are:\n",
    "            # ”gto”: Spherical gaussian type orbitals defined as 𝑔𝑛𝑙(𝑟)=∑𝑛max𝑛′=1𝛽𝑛𝑛′𝑙𝑟𝑙𝑒−𝛼𝑛′𝑙𝑟2\n",
    "            # ”polynomial”: Polynomial basis defined as 𝑔𝑛(𝑟)=∑𝑛max𝑛′=1𝛽𝑛𝑛′(𝑟−𝑟cut)𝑛′+2\n",
    "            \n",
    "# 1. rcut, sets the cutoff for atoms whose gaussian densities will be included in the integral.\n",
    "# 2. nmax, sets the number of orthogonal radial basis functions to use.\n",
    "# 3. lmax, sets the number of angular momentum terms, so l = 0, 1, ...., lmax\n"
   ]
  },
  {
   "cell_type": "code",
   "execution_count": null,
   "metadata": {},
   "outputs": [],
   "source": [
    "dd.plotDescs(zero_structure, zero_name, level, \"SOAP\", chemsyms, n_atoms, n_jobs, verbose, path_output, save=False)"
   ]
  },
  {
   "cell_type": "code",
   "execution_count": null,
   "metadata": {},
   "outputs": [],
   "source": []
  },
  {
   "cell_type": "code",
   "execution_count": null,
   "metadata": {},
   "outputs": [],
   "source": []
  },
  {
   "cell_type": "code",
   "execution_count": null,
   "metadata": {},
   "outputs": [],
   "source": [
    "!say \"Holy crap!\""
   ]
  },
  {
   "cell_type": "code",
   "execution_count": null,
   "metadata": {},
   "outputs": [],
   "source": [
    "raise ValueError(\"Stop here!\")"
   ]
  },
  {
   "cell_type": "markdown",
   "metadata": {},
   "source": [
    "# Constructions zone"
   ]
  },
  {
   "cell_type": "markdown",
   "metadata": {},
   "source": [
    "## Dash"
   ]
  },
  {
   "cell_type": "code",
   "execution_count": null,
   "metadata": {},
   "outputs": [],
   "source": [
    "os.mkdir(\"./temp\")"
   ]
  },
  {
   "cell_type": "code",
   "execution_count": null,
   "metadata": {},
   "outputs": [],
   "source": [
    "import plotly.graph_objects as go\n",
    "import dash\n",
    "import dash_core_components as dcc\n",
    "import dash_html_components as html\n",
    "from dash.dependencies import Input, Output\n",
    "import base64\n",
    "from io import BytesIO\n",
    "from PIL import Image\n",
    "from ase.io import write\n",
    "from IPython.display import IFrame"
   ]
  },
  {
   "cell_type": "code",
   "execution_count": null,
   "metadata": {},
   "outputs": [],
   "source": [
    "graph_component = dcc.Graph(\n",
    "    id='tsne',\n",
    "    config={'displayModeBar': False},\n",
    "    figure={\n",
    "        'data': [\n",
    "            go.Scattergl(\n",
    "                x=resultsXTB_df[\"{}_{}_tsne1\".format(\"XTB\",\"MBTR\")],\n",
    "                y=resultsXTB_df[\"{}_{}_tsne2\".format(\"XTB\",\"MBTR\")],\n",
    "                mode='markers',\n",
    "                opacity=0.9,\n",
    "                marker={\n",
    "                    'size': 5,\n",
    "                    'color': 'orange',\n",
    "                    'line': {'width': 0.5, 'color': 'white'}\n",
    "                },\n",
    "                name=\"cm\"\n",
    "            )\n",
    "        ],\n",
    "        'layout': go.Layout(\n",
    "            height=400,\n",
    "            xaxis={'title': 'tsne1'},\n",
    "            yaxis={'title': 'tsne2'},\n",
    "            margin={'l': 40, 'b': 40, 't': 10, 'r': 10},\n",
    "            legend={'x': 1, 'y': 1},\n",
    "            hovermode='closest',\n",
    "            dragmode='select'\n",
    "        )\n",
    "    }\n",
    ")\n",
    "\n",
    "image_component = html.Img(id=\"structure-image\")\n",
    "\n",
    "external_stylesheets = ['https://codepen.io/chriddyp/pen/bWLwgP.css']\n",
    "app = dash.Dash(__name__, external_stylesheets=external_stylesheets)\n",
    "\n",
    "app.layout = html.Div([\n",
    "    html.Div([graph_component]),\n",
    "    html.Div([image_component])\n",
    "])\n",
    "\n",
    "@app.callback(\n",
    "    Output('structure-image', 'src'),\n",
    "    [Input('tsne', 'hoverData')])\n",
    "def display_selected_data(hoverData):\n",
    "    empty_plot = \"data:image/gif;base64,R0lGODlhAQABAAAAACwAAAAAAQABAAA=\"\n",
    "    if hoverData:\n",
    "        if len(hoverData['points']) == 0:\n",
    "            return empty_plot\n",
    "        match_idx = [x['pointIndex'] for x in hoverData['points']][0]\n",
    "        mol_list = structuresXTB.ase[match_idx]\n",
    "        #name_list = list(match_df.zyxs)\n",
    "        buffered = BytesIO()\n",
    "        write(\"./temp/temp.png\", mol_list)\n",
    "        with Image.open(\"./temp/temp.png\") as img:\n",
    "            img.save(buffered, format=\"png\")\n",
    "        encoded_image = base64.b64encode(buffered.getvalue())\n",
    "        src_str = 'data:image/png;base64,{}'.format(encoded_image.decode())\n",
    "    else:\n",
    "        return empty_plot\n",
    "    return src_str"
   ]
  },
  {
   "cell_type": "code",
   "execution_count": null,
   "metadata": {},
   "outputs": [],
   "source": [
    "app.run_server(debug=True, use_reloader=False)  # Turn off reloader if inside Jupyter\n",
    "IFrame(src= \"http://127.0.0.1:8050/\", width=\"100%\", height=\"950px\",frameBorder=\"0\")"
   ]
  }
 ],
 "metadata": {
  "kernelspec": {
   "display_name": "Python 3",
   "language": "python",
   "name": "python3"
  },
  "language_info": {
   "codemirror_mode": {
    "name": "ipython",
    "version": 3
   },
   "file_extension": ".py",
   "mimetype": "text/x-python",
   "name": "python",
   "nbconvert_exporter": "python",
   "pygments_lexer": "ipython3",
   "version": "3.7.3"
  }
 },
 "nbformat": 4,
 "nbformat_minor": 4
}
